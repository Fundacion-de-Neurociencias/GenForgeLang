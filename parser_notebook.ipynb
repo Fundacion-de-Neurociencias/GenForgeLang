{
 "cells": [
  {
   "cell_type": "markdown",
   "id": "df624ba2",
   "metadata": {},
   "source": [
    "# 🧬 GeneForgeLang Parser Notebook\n",
    "Este notebook permite introducir frases escritas en GeneForgeLang y analizarlas sintácticamente según la gramática JSON."
   ]
  },
  {
   "cell_type": "code",
   "execution_count": null,
   "id": "175dba72",
   "metadata": {},
   "outputs": [],
   "source": [
    "# Cargar gramática\n",
    "import json\n",
    "import re\n",
    "\n",
    "with open(\"geneforge_grammar.json\", \"r\") as f:\n",
    "    grammar = json.load(f)\n",
    "\n",
    "# Compilar expresiones regulares\n",
    "regex_prefix = re.compile(r\"^([~:\\^\\*!])([drp]):\")\n",
    "regex_modules = re.compile(r\"(Dom|Mot|TF|Ctrl|PTM)\\(([^)]+)\\)\")\n",
    "regex_ptm = re.compile(r\"([A-Z])\\*([A-Za-z]+)@(\\d+)\")\n",
    "regex_compact_ptm = re.compile(r\"\\*([A-Za-z]+)([A-Z])@(\\d+)\")\n",
    "regex_mut = re.compile(r\"\\[MUT:([A-Z])>([A-Z])@(\\d+)]\")\n"
   ]
  },
  {
   "cell_type": "code",
   "execution_count": null,
   "id": "42dea826",
   "metadata": {},
   "outputs": [],
   "source": [
    "# Función principal del parser\n",
    "def parse_geneforge_line(line):\n",
    "    output = {\n",
    "        \"valid\": False,\n",
    "        \"structure\": None,\n",
    "        \"molecule\": None,\n",
    "        \"modules\": [],\n",
    "        \"ptms\": [],\n",
    "        \"mutations\": [],\n",
    "        \"errors\": []\n",
    "    }\n",
    "\n",
    "    prefix_match = regex_prefix.match(line)\n",
    "    if not prefix_match:\n",
    "        output[\"errors\"].append(\"Invalid or missing structural/molecular prefix.\")\n",
    "        return output\n",
    "\n",
    "    structure_symbol, molecule_code = prefix_match.groups()\n",
    "    output[\"structure\"] = grammar[\"structures\"].get(structure_symbol)\n",
    "    output[\"molecule\"] = grammar[\"molecules\"].get(molecule_code)\n",
    "\n",
    "    modules_found = regex_modules.findall(line)\n",
    "    output[\"modules\"] = [{\"type\": m, \"value\": v} for m, v in modules_found]\n",
    "\n",
    "    ptms_proforma = regex_ptm.findall(line)\n",
    "    for r, t, pos in ptms_proforma:\n",
    "        output[\"ptms\"].append({\n",
    "            \"notation\": \"ProForma\",\n",
    "            \"residue\": r,\n",
    "            \"modification\": t,\n",
    "            \"position\": int(pos)\n",
    "        })\n",
    "\n",
    "    ptms_compact = regex_compact_ptm.findall(line)\n",
    "    for t, r, pos in ptms_compact:\n",
    "        output[\"ptms\"].append({\n",
    "            \"notation\": \"GeneForgeLang\",\n",
    "            \"residue\": r,\n",
    "            \"modification\": t,\n",
    "            \"position\": int(pos)\n",
    "        })\n",
    "\n",
    "    mutations = regex_mut.findall(line)\n",
    "    output[\"mutations\"] = [{\"from\": f, \"to\": t, \"position\": int(pos)} for f, t, pos in mutations]\n",
    "\n",
    "    output[\"valid\"] = True\n",
    "    return output\n"
   ]
  },
  {
   "cell_type": "code",
   "execution_count": null,
   "id": "c87d9e38",
   "metadata": {},
   "outputs": [],
   "source": [
    "# ✍️ Introduce tu frase GeneForgeLang aquí\n",
    "test_input = \"^p:Dom(Kin)'-Mot(NLS)*AcK@147=Localize(Nucleus)[MUT:A>G@42]R*P@123\"\n",
    "\n",
    "# Ejecutar parser\n",
    "parsed_result = parse_geneforge_line(test_input)\n",
    "parsed_result\n"
   ]
  }
 ],
 "metadata": {},
 "nbformat": 4,
 "nbformat_minor": 5
}